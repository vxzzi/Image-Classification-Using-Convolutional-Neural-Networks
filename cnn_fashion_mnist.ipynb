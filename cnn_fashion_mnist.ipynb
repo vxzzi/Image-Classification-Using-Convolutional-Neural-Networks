{
  "cells": [
    {
      "cell_type": "code",
      "execution_count": null,
      "metadata": {
        "colab": {
          "base_uri": "https://localhost:8080/"
        },
        "id": "rct6Q03QIkZq",
        "outputId": "98ff5ef0-1207-4d44-eb29-1b278322f29a"
      },
      "outputs": [
        {
          "name": "stdout",
          "output_type": "stream",
          "text": [
            "Requirement already satisfied: keras in /usr/local/lib/python3.7/dist-packages (2.8.0)\n"
          ]
        }
      ],
      "source": [
        "pip install keras"
      ]
    },
    {
      "cell_type": "code",
      "execution_count": null,
      "metadata": {
        "id": "zhy06zK4G57U"
      },
      "outputs": [],
      "source": [
        "from keras.datasets import fashion_mnist"
      ]
    },
    {
      "cell_type": "code",
      "execution_count": null,
      "metadata": {
        "id": "x09opVA19URp"
      },
      "outputs": [],
      "source": [
        "(train_X, train_Y), (test_X, test_Y) = fashion_mnist.load_data()"
      ]
    },
    {
      "cell_type": "code",
      "execution_count": null,
      "metadata": {
        "colab": {
          "base_uri": "https://localhost:8080/"
        },
        "id": "fbQdu1jw-tm0",
        "outputId": "4261b360-cbeb-4646-c74e-327edc859ce7"
      },
      "outputs": [
        {
          "name": "stdout",
          "output_type": "stream",
          "text": [
            "Training data Shape:  (60000, 28, 28) (60000,)\n",
            "Testing data Shape:  (10000, 28, 28) (10000,)\n"
          ]
        }
      ],
      "source": [
        "from keras.utils.data_utils import init_pool_generator\n",
        "import numpy as np\n",
        "from tensorflow.keras.utils import to_categorical\n",
        "import matplotlib.pyplot as plt\n",
        "%matplotlib inline\n",
        "\n",
        "print (\"Training data Shape: \", train_X.shape, train_Y.shape)\n",
        "print (\"Testing data Shape: \", test_X.shape, test_Y.shape)\n",
        "#print (\"Testing data: \", test_X[0], test_Y[0])"
      ]
    },
    {
      "cell_type": "code",
      "execution_count": null,
      "metadata": {
        "colab": {
          "base_uri": "https://localhost:8080/"
        },
        "id": "OzdkwfvsNZZn",
        "outputId": "7cbb8e38-fcad-48e2-ce7c-476376778328"
      },
      "outputs": [
        {
          "name": "stdout",
          "output_type": "stream",
          "text": [
            "Total number of Classes:  10\n",
            "Output Classes :  [0 1 2 3 4 5 6 7 8 9]\n"
          ]
        }
      ],
      "source": [
        "# Find the unique numbers in the training labels\n",
        "classes = np.unique(train_Y)\n",
        "nClasses = len(classes)\n",
        "print(\"Total number of Classes: \", nClasses)\n",
        "print(\"Output Classes : \", classes)"
      ]
    },
    {
      "cell_type": "code",
      "execution_count": null,
      "metadata": {
        "colab": {
          "base_uri": "https://localhost:8080/",
          "height": 209
        },
        "id": "QA1E2JOBVm1p",
        "outputId": "38548a12-8848-48e5-cbe1-5afa6b250db2"
      },
      "outputs": [
        {
          "data": {
            "text/plain": [
              "Text(0.5, 1.0, 'Ground truth : 9')"
            ]
          },
          "execution_count": 17,
          "metadata": {},
          "output_type": "execute_result"
        },
        {
          "data": {
            "image/png": "[encoded data removed]",
            "text/plain": [
              "<Figure size 360x360 with 2 Axes>"
            ]
          },
          "metadata": {},
          "output_type": "display_data"
        }
      ],
      "source": [
        "plt.figure(figsize=(5,5))\n",
        "\n",
        "# Display the first image in the train data\n",
        "plt.subplot(121)\n",
        "plt.imshow(train_X[0,:,:], cmap='gray')\n",
        "plt.title(\"Ground truth : {}\".format(train_Y[0]))\n",
        "\n",
        "# Display the first image in the test data\n",
        "plt.subplot(122)\n",
        "plt.imshow(test_X[0,:,:], cmap='gray')\n",
        "plt.title(\"Ground truth : {}\".format(test_Y[0]))"
      ]
    },
    {
      "cell_type": "code",
      "execution_count": null,
      "metadata": {
        "colab": {
          "base_uri": "https://localhost:8080/"
        },
        "id": "4gCQa9Uvgr0-",
        "outputId": "0f522800-8714-4bb9-b21a-ec7b6c823d9a"
      },
      "outputs": [
        {
          "data": {
            "text/plain": [
              "((60000, 28, 28, 1), (10000, 28, 28, 1))"
            ]
          },
          "execution_count": 18,
          "metadata": {},
          "output_type": "execute_result"
        }
      ],
      "source": [
        "train_X = train_X.reshape(-1, 28, 28, 1)\n",
        "test_X = test_X.reshape(-1, 28, 28, 1)\n",
        "train_X.shape, test_X.shape\n",
        "#print (\"Testing data: \", test_X[0])"
      ]
    },
    {
      "cell_type": "code",
      "execution_count": null,
      "metadata": {
        "colab": {
          "base_uri": "https://localhost:8080/"
        },
        "id": "D24XEhdOnBNn",
        "outputId": "d2f143c9-4fed-443a-c6f3-853130d84282"
      },
      "outputs": [
        {
          "data": {
            "text/plain": [
              "((10000, 28, 28, 1), (60000, 28, 28, 1))"
            ]
          },
          "execution_count": 19,
          "metadata": {},
          "output_type": "execute_result"
        }
      ],
      "source": [
        "# Normalize the dataset\n",
        "train_X = train_X.astype('float32')\n",
        "test_X = test_X.astype('float32')\n",
        "train_X = train_X / 255\n",
        "test_X = test_X / 255\n",
        "\n",
        "test_X.shape, train_X.shape\n",
        "#print (\"Testing data: \", test_X[0])"
      ]
    },
    {
      "cell_type": "code",
      "execution_count": null,
      "metadata": {
        "colab": {
          "base_uri": "https://localhost:8080/"
        },
        "id": "HPhbhHJIpEpU",
        "outputId": "4cd87731-2e2f-4a5b-987e-41c9ff8d2530"
      },
      "outputs": [
        {
          "name": "stdout",
          "output_type": "stream",
          "text": [
            "Original label :  9\n",
            "After conversion to one-hot encoding label :  [0. 0. 0. 0. 0. 0. 0. 0. 0. 1.]\n"
          ]
        }
      ],
      "source": [
        "# Change the labels from categrorical to one-hot encoding\n",
        "train_Y_one_hot = to_categorical(train_Y)\n",
        "test_Y_one_hot = to_categorical(test_Y)\n",
        "\n",
        "# Display the change for categorical labels using one-hot encoding\n",
        "print(\"Original label : \", train_Y[0])\n",
        "print(\"After conversion to one-hot encoding label : \", train_Y_one_hot[0])"
      ]
    },
    {
      "cell_type": "code",
      "execution_count": null,
      "metadata": {
        "colab": {
          "base_uri": "https://localhost:8080/"
        },
        "id": "6DGMz2Dm2ck6",
        "outputId": "d568299e-1618-48cf-8695-aa480aa510af"
      },
      "outputs": [
        {
          "data": {
            "text/plain": [
              "((60000, 28, 28, 1), (10000, 28, 28, 1))"
            ]
          },
          "execution_count": 21,
          "metadata": {},
          "output_type": "execute_result"
        }
      ],
      "source": [
        "from sklearn.model_selection import train_test_split\n",
        "train_X.shape, test_X.shape"
      ]
    },
    {
      "cell_type": "code",
      "execution_count": null,
      "metadata": {
        "id": "OOqP6Vgj_mcY"
      },
      "outputs": [],
      "source": [
        "train_X, valid_X, train_label, valid_label = train_test_split(train_X, train_Y_one_hot, test_size=0.2, random_state=5)"
      ]
    },
    {
      "cell_type": "code",
      "execution_count": null,
      "metadata": {
        "colab": {
          "base_uri": "https://localhost:8080/"
        },
        "id": "iMOIdpsPARJS",
        "outputId": "399f28ae-cc8f-4845-b0d5-31d5fed44d61"
      },
      "outputs": [
        {
          "data": {
            "text/plain": [
              "((48000, 28, 28, 1), (12000, 28, 28, 1), (10000, 28, 28, 1))"
            ]
          },
          "execution_count": 23,
          "metadata": {},
          "output_type": "execute_result"
        }
      ],
      "source": [
        "train_X.shape, valid_X.shape, test_X.shape "
      ]
    },
    {
      "cell_type": "code",
      "execution_count": null,
      "metadata": {
        "id": "qATyF4xkDHfU"
      },
      "outputs": [],
      "source": [
        "import keras\n",
        "import tensorflow\n",
        "from keras.models import Sequential, Model, Input\n",
        "from keras.layers import Dense, Dropout, Flatten\n",
        "from keras.layers import Conv2D, MaxPooling2D\n",
        "from keras.layers import BatchNormalization\n",
        "from keras.layers.advanced_activations import LeakyReLU"
      ]
    },
    {
      "cell_type": "code",
      "execution_count": null,
      "metadata": {
        "id": "Rw7oFqLXI1tp"
      },
      "outputs": [],
      "source": [
        "batch_size = 64\n",
        "epochs = 20\n",
        "num_classes = 10"
      ]
    },
    {
      "cell_type": "code",
      "execution_count": 36,
      "metadata": {
        "id": "WFuMGbKpJL92"
      },
      "outputs": [],
      "source": [
        "fashion_model = Sequential()\n",
        "fashion_model.add(Conv2D(32, kernel_size=(3,3), activation='linear', input_shape=(28, 28, 1), padding='same'))\n",
        "fashion_model.add(LeakyReLU(alpha=0.1))\n",
        "fashion_model.add(MaxPooling2D(pool_size=(2,2), padding='same'))\n",
        "fashion_model.add(Conv2D(64, kernel_size=(3,3), activation='linear', padding='same'))\n",
        "fashion_model.add(LeakyReLU(alpha=0.1))\n",
        "fashion_model.add(MaxPooling2D(pool_size=(2,2), padding='same'))\n",
        "fashion_model.add(Conv2D(128, kernel_size=(3,3), activation='linear', padding='same'))\n",
        "fashion_model.add(LeakyReLU(alpha=0.1))\n",
        "fashion_model.add(MaxPooling2D(pool_size=(2,2), padding='same'))\n",
        "fashion_model.add(Flatten())\n",
        "fashion_model.add(Dense(128, activation='linear'))\n",
        "fashion_model.add(LeakyReLU(alpha=0.1))\n",
        "fashion_model.add(Dense(num_classes, activation='softmax'))"
      ]
    },
    {
      "cell_type": "code",
      "execution_count": null,
      "metadata": {
        "id": "sDiZqg3EQpKU"
      },
      "outputs": [],
      "source": [
        "fashion_model.compile(loss=keras.losses.categorical_crossentropy, optimizer=tensorflow.keras.optimizers.Adam(), metrics=['accuracy'])"
      ]
    },
    {
      "cell_type": "code",
      "execution_count": null,
      "metadata": {
        "colab": {
          "base_uri": "https://localhost:8080/"
        },
        "id": "HrnvT0D-Rrs6",
        "outputId": "f396af12-298f-4836-f108-13623b5c6328"
      },
      "outputs": [
        {
          "name": "stdout",
          "output_type": "stream",
          "text": [
            "Model: \"sequential\"\n",
            "_________________________________________________________________\n",
            " Layer (type)                Output Shape              Param #   \n",
            "=================================================================\n",
            " conv2d (Conv2D)             (None, 28, 28, 32)        320       \n",
            "                                                                 \n",
            " leaky_re_lu (LeakyReLU)     (None, 28, 28, 32)        0         \n",
            "                                                                 \n",
            " max_pooling2d (MaxPooling2D  (None, 14, 14, 32)       0         \n",
            " )                                                               \n",
            "                                                                 \n",
            " conv2d_1 (Conv2D)           (None, 14, 14, 64)        18496     \n",
            "                                                                 \n",
            " leaky_re_lu_1 (LeakyReLU)   (None, 14, 14, 64)        0         \n",
            "                                                                 \n",
            " max_pooling2d_1 (MaxPooling  (None, 7, 7, 64)         0         \n",
            " 2D)                                                             \n",
            "                                                                 \n",
            " conv2d_2 (Conv2D)           (None, 7, 7, 128)         73856     \n",
            "                                                                 \n",
            " leaky_re_lu_2 (LeakyReLU)   (None, 7, 7, 128)         0         \n",
            "                                                                 \n",
            " max_pooling2d_2 (MaxPooling  (None, 4, 4, 128)        0         \n",
            " 2D)                                                             \n",
            "                                                                 \n",
            " flatten (Flatten)           (None, 2048)              0         \n",
            "                                                                 \n",
            " dense (Dense)               (None, 128)               262272    \n",
            "                                                                 \n",
            " leaky_re_lu_3 (LeakyReLU)   (None, 128)               0         \n",
            "                                                                 \n",
            " dense_1 (Dense)             (None, 10)                1290      \n",
            "                                                                 \n",
            "=================================================================\n",
            "Total params: 356,234\n",
            "Trainable params: 356,234\n",
            "Non-trainable params: 0\n",
            "_________________________________________________________________\n"
          ]
        }
      ],
      "source": [
        "fashion_model.summary()"
      ]
    },
    {
      "cell_type": "code",
      "execution_count": null,
      "metadata": {
        "colab": {
          "background_save": true,
          "base_uri": "https://localhost:8080/"
        },
        "id": "FkdO45FrSXnf",
        "outputId": "fa870df3-7f5b-44bd-e3dd-65aa6f89da6e"
      },
      "outputs": [
        {
          "name": "stdout",
          "output_type": "stream",
          "text": [
            "Epoch 1/20\n",
            "750/750 [==============================] - 94s 125ms/step - loss: 0.4659 - accuracy: 0.8286 - val_loss: 0.3251 - val_accuracy: 0.8817\n",
            "Epoch 2/20\n",
            "750/750 [==============================] - 93s 124ms/step - loss: 0.2893 - accuracy: 0.8951 - val_loss: 0.2773 - val_accuracy: 0.8992\n",
            "Epoch 3/20\n",
            "750/750 [==============================] - 95s 126ms/step - loss: 0.2378 - accuracy: 0.9133 - val_loss: 0.2564 - val_accuracy: 0.9085\n",
            "Epoch 4/20\n",
            "750/750 [==============================] - 94s 126ms/step - loss: 0.2081 - accuracy: 0.9241 - val_loss: 0.2499 - val_accuracy: 0.9068\n",
            "Epoch 5/20\n",
            "750/750 [==============================] - 94s 126ms/step - loss: 0.1826 - accuracy: 0.9321 - val_loss: 0.2482 - val_accuracy: 0.9082\n",
            "Epoch 6/20\n",
            "750/750 [==============================] - 95s 127ms/step - loss: 0.1597 - accuracy: 0.9405 - val_loss: 0.2267 - val_accuracy: 0.9155\n",
            "Epoch 7/20\n",
            "750/750 [==============================] - 94s 125ms/step - loss: 0.1389 - accuracy: 0.9485 - val_loss: 0.2319 - val_accuracy: 0.9199\n",
            "Epoch 8/20\n",
            "750/750 [==============================] - 95s 127ms/step - loss: 0.1190 - accuracy: 0.9559 - val_loss: 0.2341 - val_accuracy: 0.9215\n",
            "Epoch 9/20\n",
            "750/750 [==============================] - 96s 127ms/step - loss: 0.1037 - accuracy: 0.9616 - val_loss: 0.2420 - val_accuracy: 0.9237\n",
            "Epoch 10/20\n",
            "750/750 [==============================] - 95s 126ms/step - loss: 0.0856 - accuracy: 0.9678 - val_loss: 0.2700 - val_accuracy: 0.9228\n",
            "Epoch 11/20\n",
            "750/750 [==============================] - 94s 126ms/step - loss: 0.0725 - accuracy: 0.9734 - val_loss: 0.3019 - val_accuracy: 0.9180\n",
            "Epoch 12/20\n",
            "750/750 [==============================] - 94s 126ms/step - loss: 0.0630 - accuracy: 0.9767 - val_loss: 0.3025 - val_accuracy: 0.9179\n",
            "Epoch 13/20\n",
            "750/750 [==============================] - 95s 127ms/step - loss: 0.0589 - accuracy: 0.9775 - val_loss: 0.3028 - val_accuracy: 0.9230\n",
            "Epoch 14/20\n",
            "750/750 [==============================] - 94s 126ms/step - loss: 0.0449 - accuracy: 0.9828 - val_loss: 0.3452 - val_accuracy: 0.9225\n",
            "Epoch 15/20\n",
            "750/750 [==============================] - 95s 126ms/step - loss: 0.0415 - accuracy: 0.9845 - val_loss: 0.3819 - val_accuracy: 0.9200\n",
            "Epoch 16/20\n",
            "750/750 [==============================] - 96s 128ms/step - loss: 0.0377 - accuracy: 0.9858 - val_loss: 0.3630 - val_accuracy: 0.9251\n",
            "Epoch 17/20\n",
            "750/750 [==============================] - 95s 127ms/step - loss: 0.0354 - accuracy: 0.9869 - val_loss: 0.4046 - val_accuracy: 0.9151\n",
            "Epoch 18/20\n",
            "750/750 [==============================] - 96s 128ms/step - loss: 0.0336 - accuracy: 0.9872 - val_loss: 0.4170 - val_accuracy: 0.9247\n",
            "Epoch 19/20\n",
            "750/750 [==============================] - 98s 131ms/step - loss: 0.0298 - accuracy: 0.9895 - val_loss: 0.4422 - val_accuracy: 0.9225\n",
            "Epoch 20/20\n",
            "750/750 [==============================] - 98s 130ms/step - loss: 0.0278 - accuracy: 0.9904 - val_loss: 0.4350 - val_accuracy: 0.9232\n"
          ]
        }
      ],
      "source": [
        "fashion_train = fashion_model.fit(train_X, train_label, batch_size=batch_size, epochs=epochs, validation_data=(valid_X, valid_label), verbose=1)"
      ]
    },
    {
      "cell_type": "code",
      "execution_count": 30,
      "metadata": {
        "colab": {
          "base_uri": "https://localhost:8080/"
        },
        "id": "uK48ubZjMlym",
        "outputId": "02ff2d6d-607b-4a68-ef42-0f82378442e8"
      },
      "outputs": [
        {
          "output_type": "stream",
          "name": "stdout",
          "text": [
            "313/313 [==============================] - 6s 20ms/step - loss: 0.4938 - accuracy: 0.9150\n"
          ]
        }
      ],
      "source": [
        "test_eval = fashion_model.evaluate(test_X, test_Y_one_hot, verbose=1)"
      ]
    },
    {
      "cell_type": "code",
      "execution_count": 31,
      "metadata": {
        "colab": {
          "base_uri": "https://localhost:8080/"
        },
        "id": "VN1m7a54NKgq",
        "outputId": "90a7360e-74af-43d7-b1e7-c0682c11517d"
      },
      "outputs": [
        {
          "output_type": "stream",
          "name": "stdout",
          "text": [
            "test loss:  0.49379637837409973\n",
            "test accuracy:  0.9150000214576721\n"
          ]
        }
      ],
      "source": [
        "print(\"test loss: \", test_eval[0])\n",
        "print(\"test accuracy: \", test_eval[1])"
      ]
    },
    {
      "cell_type": "code",
      "execution_count": 32,
      "metadata": {
        "id": "Rq4Y07EZQEo7"
      },
      "outputs": [],
      "source": [
        "k = list(fashion_train.history.keys())\n",
        "a = list(fashion_train.history.values())\n",
        "val_loss = a[0]\n",
        "val_accuracy = a[1]\n",
        "loss = a[2]\n",
        "accuracy = a[3]\n",
        "epochs = range(len(accuracy))"
      ]
    },
    {
      "cell_type": "code",
      "execution_count": 33,
      "metadata": {
        "colab": {
          "base_uri": "https://localhost:8080/"
        },
        "id": "8NcP7OIqRJQg",
        "outputId": "e074aed1-cf07-461a-bc5a-3eae24a6f3e0"
      },
      "outputs": [
        {
          "output_type": "execute_result",
          "data": {
            "text/plain": [
              "range(0, 20)"
            ]
          },
          "metadata": {},
          "execution_count": 33
        }
      ],
      "source": [
        "epochs"
      ]
    },
    {
      "cell_type": "code",
      "execution_count": 34,
      "metadata": {
        "colab": {
          "base_uri": "https://localhost:8080/",
          "height": 563
        },
        "id": "dDgmpfE_RLV4",
        "outputId": "1c631029-5938-48b2-d111-5de1af020da4"
      },
      "outputs": [
        {
          "output_type": "display_data",
          "data": {
            "image/png": "[encoded data removed]",
            "text/plain": [
              "<Figure size 432x288 with 1 Axes>"
            ]
          },
          "metadata": {
            "needs_background": "light"
          }
        },
        {
          "output_type": "display_data",
          "data": {
            "image/png": "[encoded data removed]",
            "text/plain": [
              "<Figure size 432x288 with 1 Axes>"
            ]
          },
          "metadata": {
            "needs_background": "light"
          }
        },
        {
          "output_type": "display_data",
          "data": {
            "text/plain": [
              "<Figure size 432x288 with 0 Axes>"
            ]
          },
          "metadata": {}
        }
      ],
      "source": [
        "plt.plot(epochs, accuracy, 'k*', label='Training Accuracy')\n",
        "plt.plot(epochs, val_accuracy, 'r', label='Validation Accuracy')\n",
        "plt.title(\"Training and Validation Accuracy\")\n",
        "plt.legend()\n",
        "plt.figure()\n",
        "plt.plot(epochs, loss, 'k*', label='Training Loss')\n",
        "plt.plot(epochs, val_loss, 'r', label='Validation Loss')\n",
        "plt.title(\"Training and Validation Loss\")\n",
        "plt.legend()\n",
        "plt.figure()\n",
        "plt.show()"
      ]
    },
    {
      "cell_type": "code",
      "execution_count": 37,
      "metadata": {
        "id": "kyhlS7u6QJWx"
      },
      "outputs": [],
      "source": [
        "#Introduce drop out into the neural network for overfitting issue, \n",
        "# retrain model with dropout to keep some neurons inactive over training not to memorise training data\n",
        "\n",
        "batch_size = 64\n",
        "epochs = 20\n",
        "num_classes = 10\n",
        "fashion_model2 = Sequential()\n",
        "fashion_model2.add(Conv2D(32, kernel_size=(3,3), activation='linear', input_shape=(28, 28, 1), padding='same'))\n",
        "fashion_model2.add(LeakyReLU(alpha=0.1))\n",
        "fashion_model2.add(MaxPooling2D(pool_size=(2,2), padding='same'))\n",
        "fashion_model2.add(Dropout(0.25))\n",
        "fashion_model2.add(Conv2D(64, kernel_size=(3,3), activation='linear', padding='same'))\n",
        "fashion_model2.add(LeakyReLU(alpha=0.1))\n",
        "fashion_model2.add(MaxPooling2D(pool_size=(2,2), padding='same'))\n",
        "fashion_model2.add(Dropout(0.25))\n",
        "fashion_model2.add(Conv2D(128, kernel_size=(3,3), activation='linear', padding='same'))\n",
        "fashion_model2.add(LeakyReLU(alpha=0.1))\n",
        "fashion_model2.add(MaxPooling2D(pool_size=(2,2), padding='same'))\n",
        "fashion_model2.add(Dropout(0.4))\n",
        "fashion_model2.add(Flatten())\n",
        "fashion_model2.add(Dense(128, activation='linear'))\n",
        "fashion_model2.add(LeakyReLU(alpha=0.1))\n",
        "fashion_model2.add(Dropout(0.3))\n",
        "fashion_model2.add(Dense(num_classes, activation='softmax'))"
      ]
    },
    {
      "cell_type": "code",
      "source": [
        "fashion_model2.summary()"
      ],
      "metadata": {
        "colab": {
          "base_uri": "https://localhost:8080/"
        },
        "id": "12yxk1QEunmk",
        "outputId": "4a28675f-8259-44f8-e78a-6f9a691a834d"
      },
      "execution_count": 38,
      "outputs": [
        {
          "output_type": "stream",
          "name": "stdout",
          "text": [
            "Model: \"sequential_3\"\n",
            "_________________________________________________________________\n",
            " Layer (type)                Output Shape              Param #   \n",
            "=================================================================\n",
            " conv2d_9 (Conv2D)           (None, 28, 28, 32)        320       \n",
            "                                                                 \n",
            " leaky_re_lu_12 (LeakyReLU)  (None, 28, 28, 32)        0         \n",
            "                                                                 \n",
            " max_pooling2d_9 (MaxPooling  (None, 14, 14, 32)       0         \n",
            " 2D)                                                             \n",
            "                                                                 \n",
            " dropout_4 (Dropout)         (None, 14, 14, 32)        0         \n",
            "                                                                 \n",
            " conv2d_10 (Conv2D)          (None, 14, 14, 64)        18496     \n",
            "                                                                 \n",
            " leaky_re_lu_13 (LeakyReLU)  (None, 14, 14, 64)        0         \n",
            "                                                                 \n",
            " max_pooling2d_10 (MaxPoolin  (None, 7, 7, 64)         0         \n",
            " g2D)                                                            \n",
            "                                                                 \n",
            " dropout_5 (Dropout)         (None, 7, 7, 64)          0         \n",
            "                                                                 \n",
            " conv2d_11 (Conv2D)          (None, 7, 7, 128)         73856     \n",
            "                                                                 \n",
            " leaky_re_lu_14 (LeakyReLU)  (None, 7, 7, 128)         0         \n",
            "                                                                 \n",
            " max_pooling2d_11 (MaxPoolin  (None, 4, 4, 128)        0         \n",
            " g2D)                                                            \n",
            "                                                                 \n",
            " dropout_6 (Dropout)         (None, 4, 4, 128)         0         \n",
            "                                                                 \n",
            " flatten_3 (Flatten)         (None, 2048)              0         \n",
            "                                                                 \n",
            " dense_6 (Dense)             (None, 128)               262272    \n",
            "                                                                 \n",
            " leaky_re_lu_15 (LeakyReLU)  (None, 128)               0         \n",
            "                                                                 \n",
            " dropout_7 (Dropout)         (None, 128)               0         \n",
            "                                                                 \n",
            " dense_7 (Dense)             (None, 10)                1290      \n",
            "                                                                 \n",
            "=================================================================\n",
            "Total params: 356,234\n",
            "Trainable params: 356,234\n",
            "Non-trainable params: 0\n",
            "_________________________________________________________________\n"
          ]
        }
      ]
    },
    {
      "cell_type": "code",
      "source": [
        "fashion_model2.compile(loss=keras.losses.categorical_crossentropy, optimizer=tensorflow.keras.optimizers.Adam(), metrics=['accuracy'])\n",
        "\n",
        "# Train neural network with dropout\n",
        "fashion_train2 = fashion_model2.fit(train_X, train_label, batch_size=batch_size, epochs=epochs, validation_data=(valid_X, valid_label), verbose=1)\n",
        "\n",
        "# Save neural network\n",
        "fashion_model2.save(\"fashion_model_dropout.h5py\")"
      ],
      "metadata": {
        "colab": {
          "base_uri": "https://localhost:8080/"
        },
        "id": "gL-SLlNtvagz",
        "outputId": "0c91e409-d090-4542-e81d-fd6899ea055c"
      },
      "execution_count": 39,
      "outputs": [
        {
          "output_type": "stream",
          "name": "stdout",
          "text": [
            "Epoch 1/20\n",
            "750/750 [==============================] - 104s 138ms/step - loss: 0.5945 - accuracy: 0.7794 - val_loss: 0.3779 - val_accuracy: 0.8618\n",
            "Epoch 2/20\n",
            "750/750 [==============================] - 101s 135ms/step - loss: 0.3770 - accuracy: 0.8622 - val_loss: 0.3060 - val_accuracy: 0.8873\n",
            "Epoch 3/20\n",
            "750/750 [==============================] - 100s 134ms/step - loss: 0.3283 - accuracy: 0.8782 - val_loss: 0.2734 - val_accuracy: 0.8992\n",
            "Epoch 4/20\n",
            "750/750 [==============================] - 102s 136ms/step - loss: 0.3032 - accuracy: 0.8877 - val_loss: 0.2595 - val_accuracy: 0.9042\n",
            "Epoch 5/20\n",
            "750/750 [==============================] - 99s 132ms/step - loss: 0.2818 - accuracy: 0.8951 - val_loss: 0.2446 - val_accuracy: 0.9097\n",
            "Epoch 6/20\n",
            "750/750 [==============================] - 99s 132ms/step - loss: 0.2667 - accuracy: 0.9008 - val_loss: 0.2333 - val_accuracy: 0.9140\n",
            "Epoch 7/20\n",
            "750/750 [==============================] - 99s 132ms/step - loss: 0.2542 - accuracy: 0.9043 - val_loss: 0.2295 - val_accuracy: 0.9149\n",
            "Epoch 8/20\n",
            "750/750 [==============================] - 99s 133ms/step - loss: 0.2481 - accuracy: 0.9066 - val_loss: 0.2303 - val_accuracy: 0.9117\n",
            "Epoch 9/20\n",
            "750/750 [==============================] - 99s 132ms/step - loss: 0.2409 - accuracy: 0.9104 - val_loss: 0.2168 - val_accuracy: 0.9207\n",
            "Epoch 10/20\n",
            "750/750 [==============================] - 99s 132ms/step - loss: 0.2361 - accuracy: 0.9128 - val_loss: 0.2300 - val_accuracy: 0.9147\n",
            "Epoch 11/20\n",
            "750/750 [==============================] - 100s 134ms/step - loss: 0.2295 - accuracy: 0.9148 - val_loss: 0.2147 - val_accuracy: 0.9207\n",
            "Epoch 12/20\n",
            "750/750 [==============================] - 99s 132ms/step - loss: 0.2242 - accuracy: 0.9163 - val_loss: 0.2170 - val_accuracy: 0.9203\n",
            "Epoch 13/20\n",
            "750/750 [==============================] - 99s 132ms/step - loss: 0.2183 - accuracy: 0.9183 - val_loss: 0.2095 - val_accuracy: 0.9235\n",
            "Epoch 14/20\n",
            "750/750 [==============================] - 99s 132ms/step - loss: 0.2160 - accuracy: 0.9191 - val_loss: 0.2210 - val_accuracy: 0.9178\n",
            "Epoch 15/20\n",
            "750/750 [==============================] - 99s 132ms/step - loss: 0.2131 - accuracy: 0.9207 - val_loss: 0.2236 - val_accuracy: 0.9195\n",
            "Epoch 16/20\n",
            "750/750 [==============================] - 99s 132ms/step - loss: 0.2085 - accuracy: 0.9206 - val_loss: 0.2063 - val_accuracy: 0.9250\n",
            "Epoch 17/20\n",
            "750/750 [==============================] - 99s 132ms/step - loss: 0.2069 - accuracy: 0.9225 - val_loss: 0.2112 - val_accuracy: 0.9253\n",
            "Epoch 18/20\n",
            "750/750 [==============================] - 99s 132ms/step - loss: 0.2071 - accuracy: 0.9225 - val_loss: 0.2085 - val_accuracy: 0.9260\n",
            "Epoch 19/20\n",
            "750/750 [==============================] - 99s 132ms/step - loss: 0.1987 - accuracy: 0.9240 - val_loss: 0.2149 - val_accuracy: 0.9222\n",
            "Epoch 20/20\n",
            "750/750 [==============================] - 99s 132ms/step - loss: 0.1989 - accuracy: 0.9238 - val_loss: 0.2038 - val_accuracy: 0.9268\n",
            "INFO:tensorflow:Assets written to: fashion_model_dropout.h5py/assets\n"
          ]
        }
      ]
    },
    {
      "cell_type": "code",
      "source": [
        "test_eval2 = fashion_model2.evaluate(test_X, test_Y_one_hot, verbose=1)"
      ],
      "metadata": {
        "colab": {
          "base_uri": "https://localhost:8080/"
        },
        "id": "Rzpc6gUf5Q3t",
        "outputId": "d172e2b7-4314-473f-bdd9-7915006fee40"
      },
      "execution_count": 40,
      "outputs": [
        {
          "output_type": "stream",
          "name": "stdout",
          "text": [
            "313/313 [==============================] - 6s 20ms/step - loss: 0.2234 - accuracy: 0.9200\n"
          ]
        }
      ]
    },
    {
      "cell_type": "code",
      "source": [
        "print(\"test loss: \", test_eval2[0])\n",
        "print(\"test accuracy: \", test_eval2[1])"
      ],
      "metadata": {
        "colab": {
          "base_uri": "https://localhost:8080/"
        },
        "id": "gsYoYIs881bh",
        "outputId": "3262d106-2f3e-47be-d2fa-0e97a6d17c7c"
      },
      "execution_count": 41,
      "outputs": [
        {
          "output_type": "stream",
          "name": "stdout",
          "text": [
            "test loss:  0.22343195974826813\n",
            "test accuracy:  0.9200000166893005\n"
          ]
        }
      ]
    },
    {
      "cell_type": "code",
      "source": [
        "k2 = list(fashion_train2.history.keys())\n",
        "a2 = list(fashion_train2.history.values())\n",
        "val_loss = a2[0]\n",
        "val_accuracy = a2[1]\n",
        "loss = a2[2]\n",
        "accuracy = a2[3]\n",
        "epochs = range(len(accuracy))\n",
        "\n",
        "plt.plot(epochs, accuracy, 'b*', label='Training Accuracy')\n",
        "plt.plot(epochs, val_accuracy, 'g', label='Validation Accuracy')\n",
        "plt.title(\"Training and Validation Accuracy\")\n",
        "plt.legend()\n",
        "plt.figure()\n",
        "plt.plot(epochs, loss, 'b*', label='Training Loss')\n",
        "plt.plot(epochs, val_loss, 'g', label='Validation Loss')\n",
        "plt.title(\"Training and Validation Loss\")\n",
        "plt.legend()\n",
        "plt.figure()\n",
        "plt.show()"
      ],
      "metadata": {
        "colab": {
          "base_uri": "https://localhost:8080/",
          "height": 563
        },
        "id": "5U6mcoLI9Beb",
        "outputId": "777b9d47-a259-45f5-c18f-fbd83550a836"
      },
      "execution_count": 43,
      "outputs": [
        {
          "output_type": "display_data",
          "data": {
            "image/png": "[encoded data removed]",
            "text/plain": [
              "<Figure size 432x288 with 1 Axes>"
            ]
          },
          "metadata": {
            "needs_background": "light"
          }
        },
        {
          "output_type": "display_data",
          "data": {
            "image/png": "[encoded data removed]",
            "text/plain": [
              "<Figure size 432x288 with 1 Axes>"
            ]
          },
          "metadata": {
            "needs_background": "light"
          }
        },
        {
          "output_type": "display_data",
          "data": {
            "text/plain": [
              "<Figure size 432x288 with 0 Axes>"
            ]
          },
          "metadata": {}
        }
      ]
    },
    {
      "cell_type": "code",
      "source": [
        "# Predict the test data\n",
        "predicted_classes = fashion_model2.predict(test_X)"
      ],
      "metadata": {
        "id": "pV54bmWJ-SrB"
      },
      "execution_count": 55,
      "outputs": []
    },
    {
      "cell_type": "code",
      "source": [
        "# Convert the floating point predicted classes into the closest integer, \n",
        "# and find where the binary predicted class is 1 to find the class number\n",
        "predicted_classes = np.argmax(np.round(predicted_classes), axis=1)\n",
        "predicted_classes, predicted_classes.shape, test_Y.shape"
      ],
      "metadata": {
        "colab": {
          "base_uri": "https://localhost:8080/"
        },
        "id": "wnPVN54d_AKw",
        "outputId": "c4d893e0-4be7-4924-8a82-4aa6a516e49f"
      },
      "execution_count": 56,
      "outputs": [
        {
          "output_type": "execute_result",
          "data": {
            "text/plain": [
              "(array([9, 2, 1, ..., 8, 1, 5]), (10000,), (10000,))"
            ]
          },
          "metadata": {},
          "execution_count": 56
        }
      ]
    },
    {
      "cell_type": "code",
      "source": [
        "test_accuracy = sum(predicted_classes == test_Y)/len(test_Y)\n",
        "test_accuracy"
      ],
      "metadata": {
        "colab": {
          "base_uri": "https://localhost:8080/"
        },
        "id": "nJuPCpG0AKGe",
        "outputId": "73654331-bded-4271-de1d-a942104c34b2"
      },
      "execution_count": 57,
      "outputs": [
        {
          "output_type": "execute_result",
          "data": {
            "text/plain": [
              "0.9173"
            ]
          },
          "metadata": {},
          "execution_count": 57
        }
      ]
    },
    {
      "cell_type": "code",
      "source": [
        "correct = np.where(predicted_classes == test_Y)[0]\n",
        "print(\"Found %d correct labels\" % len(correct))\n",
        "\n",
        "for i, correct in enumerate(correct[:9]):\n",
        "  plt.subplot(3,3,i+1)\n",
        "  plt.imshow(test_X[correct].reshape(28, 28), cmap='gray', interpolation='none')\n",
        "  plt.title(\"Predicted {}, Class {}\".format(predicted_classes[correct], test_Y[correct]))\n",
        "  plt.tight_layout()"
      ],
      "metadata": {
        "colab": {
          "base_uri": "https://localhost:8080/",
          "height": 315
        },
        "id": "Ta8ZKnCbB_Po",
        "outputId": "0c646bd9-2452-4f9e-8695-fc3f5d75af7b"
      },
      "execution_count": 58,
      "outputs": [
        {
          "output_type": "stream",
          "name": "stdout",
          "text": [
            "Found 9173 correct labels\n"
          ]
        },
        {
          "output_type": "display_data",
          "data": {
            "image/png": "[encoded data removed]",
            "text/plain": [
              "<Figure size 432x288 with 9 Axes>"
            ]
          },
          "metadata": {
            "needs_background": "light"
          }
        }
      ]
    },
    {
      "cell_type": "code",
      "source": [
        "incorrect = np.where(predicted_classes != test_Y)[0]\n",
        "print(\"Found %d incorrect labels\" % len(incorrect))\n",
        "\n",
        "for i, incorrect in enumerate(incorrect[:9]):\n",
        "  plt.subplot(3,3,i+1)\n",
        "  plt.imshow(test_X[incorrect].reshape(28, 28), cmap='gray', interpolation='none')\n",
        "  plt.title(\"Predicted {}, Class {}\".format(predicted_classes[incorrect], test_Y[incorrect]))\n",
        "  plt.tight_layout()"
      ],
      "metadata": {
        "colab": {
          "base_uri": "https://localhost:8080/",
          "height": 315
        },
        "id": "X2tYWtYaK7mn",
        "outputId": "569d58fc-b29c-46d2-d43e-e5f235628574"
      },
      "execution_count": 59,
      "outputs": [
        {
          "output_type": "stream",
          "name": "stdout",
          "text": [
            "Found 827 incorrect labels\n"
          ]
        },
        {
          "output_type": "display_data",
          "data": {
            "image/png": "[encoded data removed]",
            "text/plain": [
              "<Figure size 432x288 with 9 Axes>"
            ]
          },
          "metadata": {
            "needs_background": "light"
          }
        }
      ]
    },
    {
      "cell_type": "code",
      "source": [
        "#Introduce drop out into the neural network architecture for overfitting issue, \n",
        "# retrain model with dropout to keep some neurons inactive over training not to memorise training data\n",
        "# Apply rectified linear unit activation to the convolutional layers\n",
        "\n",
        "batch_size = 64\n",
        "epochs = 20\n",
        "num_classes = 10\n",
        "fashion_model3 = Sequential()\n",
        "fashion_model3.add(Conv2D(32, kernel_size=(3,3), activation='relu', input_shape=(28, 28, 1), padding='same'))\n",
        "fashion_model3.add(LeakyReLU(alpha=0.1))\n",
        "fashion_model3.add(MaxPooling2D(pool_size=(2,2), padding='same'))\n",
        "fashion_model3.add(Dropout(0.25))\n",
        "fashion_model3.add(Conv2D(64, kernel_size=(3,3), activation='relu', padding='same'))\n",
        "fashion_model3.add(LeakyReLU(alpha=0.1))\n",
        "fashion_model3.add(MaxPooling2D(pool_size=(2,2), padding='same'))\n",
        "fashion_model3.add(Dropout(0.25))\n",
        "fashion_model3.add(Conv2D(128, kernel_size=(3,3), activation='relu', padding='same'))\n",
        "fashion_model3.add(LeakyReLU(alpha=0.1))\n",
        "fashion_model3.add(MaxPooling2D(pool_size=(2,2), padding='same'))\n",
        "fashion_model3.add(Dropout(0.4))\n",
        "fashion_model3.add(Flatten())\n",
        "fashion_model3.add(Dense(128, activation='relu'))\n",
        "fashion_model3.add(LeakyReLU(alpha=0.1))\n",
        "fashion_model3.add(Dropout(0.3))\n",
        "fashion_model3.add(Dense(num_classes, activation='softmax'))"
      ],
      "metadata": {
        "id": "nGBvzXK5NrHe"
      },
      "execution_count": 60,
      "outputs": []
    },
    {
      "cell_type": "code",
      "source": [
        "fashion_model3.summary()"
      ],
      "metadata": {
        "colab": {
          "base_uri": "https://localhost:8080/"
        },
        "id": "kas1ERlLOkQq",
        "outputId": "ab52db25-6110-4845-eecd-8880684597a7"
      },
      "execution_count": 61,
      "outputs": [
        {
          "output_type": "stream",
          "name": "stdout",
          "text": [
            "Model: \"sequential_4\"\n",
            "_________________________________________________________________\n",
            " Layer (type)                Output Shape              Param #   \n",
            "=================================================================\n",
            " conv2d_12 (Conv2D)          (None, 28, 28, 32)        320       \n",
            "                                                                 \n",
            " leaky_re_lu_16 (LeakyReLU)  (None, 28, 28, 32)        0         \n",
            "                                                                 \n",
            " max_pooling2d_12 (MaxPoolin  (None, 14, 14, 32)       0         \n",
            " g2D)                                                            \n",
            "                                                                 \n",
            " dropout_8 (Dropout)         (None, 14, 14, 32)        0         \n",
            "                                                                 \n",
            " conv2d_13 (Conv2D)          (None, 14, 14, 64)        18496     \n",
            "                                                                 \n",
            " leaky_re_lu_17 (LeakyReLU)  (None, 14, 14, 64)        0         \n",
            "                                                                 \n",
            " max_pooling2d_13 (MaxPoolin  (None, 7, 7, 64)         0         \n",
            " g2D)                                                            \n",
            "                                                                 \n",
            " dropout_9 (Dropout)         (None, 7, 7, 64)          0         \n",
            "                                                                 \n",
            " conv2d_14 (Conv2D)          (None, 7, 7, 128)         73856     \n",
            "                                                                 \n",
            " leaky_re_lu_18 (LeakyReLU)  (None, 7, 7, 128)         0         \n",
            "                                                                 \n",
            " max_pooling2d_14 (MaxPoolin  (None, 4, 4, 128)        0         \n",
            " g2D)                                                            \n",
            "                                                                 \n",
            " dropout_10 (Dropout)        (None, 4, 4, 128)         0         \n",
            "                                                                 \n",
            " flatten_4 (Flatten)         (None, 2048)              0         \n",
            "                                                                 \n",
            " dense_8 (Dense)             (None, 128)               262272    \n",
            "                                                                 \n",
            " leaky_re_lu_19 (LeakyReLU)  (None, 128)               0         \n",
            "                                                                 \n",
            " dropout_11 (Dropout)        (None, 128)               0         \n",
            "                                                                 \n",
            " dense_9 (Dense)             (None, 10)                1290      \n",
            "                                                                 \n",
            "=================================================================\n",
            "Total params: 356,234\n",
            "Trainable params: 356,234\n",
            "Non-trainable params: 0\n",
            "_________________________________________________________________\n"
          ]
        }
      ]
    },
    {
      "cell_type": "code",
      "source": [
        "fashion_model3.compile(loss=keras.losses.categorical_crossentropy, optimizer=tensorflow.keras.optimizers.Adam(), metrics=['accuracy'])\n",
        "\n",
        "# Train neural network with dropout\n",
        "fashion_train3 = fashion_model3.fit(train_X, train_label, batch_size=batch_size, epochs=epochs, validation_data=(valid_X, valid_label), verbose=1)\n",
        "\n",
        "# Save neural network\n",
        "fashion_model3.save(\"fashion_model_dropout2.h5py\")"
      ],
      "metadata": {
        "colab": {
          "base_uri": "https://localhost:8080/"
        },
        "id": "uNdIEOTNOzyR",
        "outputId": "dbe07bd4-1000-459e-fa6c-ef04863cd4e3"
      },
      "execution_count": 62,
      "outputs": [
        {
          "output_type": "stream",
          "name": "stdout",
          "text": [
            "Epoch 1/20\n",
            "750/750 [==============================] - 113s 150ms/step - loss: 0.6404 - accuracy: 0.7638 - val_loss: 0.3827 - val_accuracy: 0.8593\n",
            "Epoch 2/20\n",
            "750/750 [==============================] - 112s 149ms/step - loss: 0.3999 - accuracy: 0.8539 - val_loss: 0.3188 - val_accuracy: 0.8841\n",
            "Epoch 3/20\n",
            "750/750 [==============================] - 110s 147ms/step - loss: 0.3470 - accuracy: 0.8722 - val_loss: 0.2863 - val_accuracy: 0.8938\n",
            "Epoch 4/20\n",
            "750/750 [==============================] - 110s 146ms/step - loss: 0.3161 - accuracy: 0.8838 - val_loss: 0.2740 - val_accuracy: 0.8967\n",
            "Epoch 5/20\n",
            "750/750 [==============================] - 110s 146ms/step - loss: 0.3010 - accuracy: 0.8896 - val_loss: 0.2732 - val_accuracy: 0.8967\n",
            "Epoch 6/20\n",
            "750/750 [==============================] - 110s 146ms/step - loss: 0.2818 - accuracy: 0.8962 - val_loss: 0.2447 - val_accuracy: 0.9082\n",
            "Epoch 7/20\n",
            "750/750 [==============================] - 109s 146ms/step - loss: 0.2700 - accuracy: 0.9009 - val_loss: 0.2398 - val_accuracy: 0.9096\n",
            "Epoch 8/20\n",
            "750/750 [==============================] - 110s 146ms/step - loss: 0.2619 - accuracy: 0.9036 - val_loss: 0.2281 - val_accuracy: 0.9165\n",
            "Epoch 9/20\n",
            "750/750 [==============================] - 110s 147ms/step - loss: 0.2512 - accuracy: 0.9066 - val_loss: 0.2238 - val_accuracy: 0.9160\n",
            "Epoch 10/20\n",
            "750/750 [==============================] - 110s 146ms/step - loss: 0.2473 - accuracy: 0.9091 - val_loss: 0.2267 - val_accuracy: 0.9161\n",
            "Epoch 11/20\n",
            "750/750 [==============================] - 110s 146ms/step - loss: 0.2421 - accuracy: 0.9105 - val_loss: 0.2221 - val_accuracy: 0.9174\n",
            "Epoch 12/20\n",
            "750/750 [==============================] - 110s 146ms/step - loss: 0.2344 - accuracy: 0.9124 - val_loss: 0.2244 - val_accuracy: 0.9172\n",
            "Epoch 13/20\n",
            "750/750 [==============================] - 109s 145ms/step - loss: 0.2303 - accuracy: 0.9147 - val_loss: 0.2086 - val_accuracy: 0.9221\n",
            "Epoch 14/20\n",
            "750/750 [==============================] - 109s 145ms/step - loss: 0.2249 - accuracy: 0.9179 - val_loss: 0.2144 - val_accuracy: 0.9215\n",
            "Epoch 15/20\n",
            "750/750 [==============================] - 109s 146ms/step - loss: 0.2210 - accuracy: 0.9175 - val_loss: 0.2092 - val_accuracy: 0.9226\n",
            "Epoch 16/20\n",
            "750/750 [==============================] - 110s 147ms/step - loss: 0.2178 - accuracy: 0.9191 - val_loss: 0.2235 - val_accuracy: 0.9159\n",
            "Epoch 17/20\n",
            "750/750 [==============================] - 110s 146ms/step - loss: 0.2127 - accuracy: 0.9207 - val_loss: 0.2248 - val_accuracy: 0.9176\n",
            "Epoch 18/20\n",
            "750/750 [==============================] - 109s 146ms/step - loss: 0.2124 - accuracy: 0.9209 - val_loss: 0.2063 - val_accuracy: 0.9230\n",
            "Epoch 19/20\n",
            "750/750 [==============================] - 109s 145ms/step - loss: 0.2064 - accuracy: 0.9231 - val_loss: 0.2003 - val_accuracy: 0.9243\n",
            "Epoch 20/20\n",
            "750/750 [==============================] - 111s 147ms/step - loss: 0.2050 - accuracy: 0.9229 - val_loss: 0.2060 - val_accuracy: 0.9252\n",
            "INFO:tensorflow:Assets written to: fashion_model_dropout2.h5py/assets\n"
          ]
        }
      ]
    },
    {
      "cell_type": "code",
      "source": [
        "test_eval3 = fashion_model3.evaluate(test_X, test_Y_one_hot, verbose=1)"
      ],
      "metadata": {
        "colab": {
          "base_uri": "https://localhost:8080/"
        },
        "id": "uwSA8eDIZCiN",
        "outputId": "8145026d-d2c6-489d-cbd8-a085b1f768c7"
      },
      "execution_count": 63,
      "outputs": [
        {
          "output_type": "stream",
          "name": "stdout",
          "text": [
            "313/313 [==============================] - 7s 22ms/step - loss: 0.2241 - accuracy: 0.9194\n"
          ]
        }
      ]
    },
    {
      "cell_type": "code",
      "source": [
        "print(\"test loss: \", test_eval3[0])\n",
        "print(\"test accuracy: \", test_eval3[1])"
      ],
      "metadata": {
        "colab": {
          "base_uri": "https://localhost:8080/"
        },
        "id": "ule6yKSzZbMc",
        "outputId": "1cd5d91f-bb4a-4e82-ae27-82e9397f8099"
      },
      "execution_count": 64,
      "outputs": [
        {
          "output_type": "stream",
          "name": "stdout",
          "text": [
            "test loss:  0.2241431325674057\n",
            "test accuracy:  0.9193999767303467\n"
          ]
        }
      ]
    },
    {
      "cell_type": "code",
      "source": [
        "fashion_model4 = Sequential()\n",
        "fashion_model4.add(Conv2D(32, kernel_size=(3, 3), activation='relu', input_shape = (28, 28, 1)))\n",
        "fashion_model4.add(Conv2D(64, kernel_size=(3, 3), activation='relu'))\n",
        "fashion_model4.add(MaxPooling2D(pool_size=(2, 2)))\n",
        "fashion_model4.add(Dropout(0.25))\n",
        "fashion_model4.add(Flatten())\n",
        "fashion_model4.add(Dense(128, activation='relu'))\n",
        "fashion_model4.add(Dropout(0.5))\n",
        "fashion_model4.add(Dense(10, activation='softmax'))\n",
        "\n",
        "fashion_model4.compile(loss=keras.losses.categorical_crossentropy, optimizer=tensorflow.keras.optimizers.Adam(), metrics=['accuracy'])\n",
        "\n",
        "fashion_model4.summary()"
      ],
      "metadata": {
        "colab": {
          "base_uri": "https://localhost:8080/"
        },
        "id": "rOrACzhYZ2QS",
        "outputId": "4240d899-70d2-45ab-b916-236b07004fd1"
      },
      "execution_count": 65,
      "outputs": [
        {
          "output_type": "stream",
          "name": "stdout",
          "text": [
            "Model: \"sequential_5\"\n",
            "_________________________________________________________________\n",
            " Layer (type)                Output Shape              Param #   \n",
            "=================================================================\n",
            " conv2d_15 (Conv2D)          (None, 26, 26, 32)        320       \n",
            "                                                                 \n",
            " conv2d_16 (Conv2D)          (None, 24, 24, 64)        18496     \n",
            "                                                                 \n",
            " max_pooling2d_15 (MaxPoolin  (None, 12, 12, 64)       0         \n",
            " g2D)                                                            \n",
            "                                                                 \n",
            " dropout_12 (Dropout)        (None, 12, 12, 64)        0         \n",
            "                                                                 \n",
            " flatten_5 (Flatten)         (None, 9216)              0         \n",
            "                                                                 \n",
            " dense_10 (Dense)            (None, 128)               1179776   \n",
            "                                                                 \n",
            " dropout_13 (Dropout)        (None, 128)               0         \n",
            "                                                                 \n",
            " dense_11 (Dense)            (None, 10)                1290      \n",
            "                                                                 \n",
            "=================================================================\n",
            "Total params: 1,199,882\n",
            "Trainable params: 1,199,882\n",
            "Non-trainable params: 0\n",
            "_________________________________________________________________\n"
          ]
        }
      ]
    },
    {
      "cell_type": "code",
      "source": [
        "# Train neural network with dropout\n",
        "batch_size = 64\n",
        "epochs = 20\n",
        "num_classes = 10\n",
        "fashion_train4 = fashion_model4.fit(train_X, train_label, batch_size=batch_size, epochs=epochs, validation_data=(valid_X, valid_label), verbose=1)\n",
        "\n",
        "# Save neural network\n",
        "fashion_model4.save(\"fashion_model_net.h5py\")"
      ],
      "metadata": {
        "colab": {
          "base_uri": "https://localhost:8080/"
        },
        "id": "MjzDEmiubsU9",
        "outputId": "6dc3cb5b-6eb4-456e-a470-07de830dfbcf"
      },
      "execution_count": 66,
      "outputs": [
        {
          "output_type": "stream",
          "name": "stdout",
          "text": [
            "Epoch 1/20\n",
            "750/750 [==============================] - 140s 186ms/step - loss: 0.5228 - accuracy: 0.8138 - val_loss: 0.3311 - val_accuracy: 0.8788\n",
            "Epoch 2/20\n",
            "750/750 [==============================] - 139s 185ms/step - loss: 0.3449 - accuracy: 0.8765 - val_loss: 0.2817 - val_accuracy: 0.8957\n",
            "Epoch 3/20\n",
            "750/750 [==============================] - 139s 186ms/step - loss: 0.2959 - accuracy: 0.8917 - val_loss: 0.2576 - val_accuracy: 0.9031\n",
            "Epoch 4/20\n",
            "750/750 [==============================] - 139s 185ms/step - loss: 0.2618 - accuracy: 0.9054 - val_loss: 0.2539 - val_accuracy: 0.9050\n",
            "Epoch 5/20\n",
            "750/750 [==============================] - 139s 186ms/step - loss: 0.2362 - accuracy: 0.9135 - val_loss: 0.2302 - val_accuracy: 0.9167\n",
            "Epoch 6/20\n",
            "750/750 [==============================] - 139s 185ms/step - loss: 0.2186 - accuracy: 0.9206 - val_loss: 0.2199 - val_accuracy: 0.9215\n",
            "Epoch 7/20\n",
            "750/750 [==============================] - 138s 185ms/step - loss: 0.2005 - accuracy: 0.9266 - val_loss: 0.2122 - val_accuracy: 0.9221\n",
            "Epoch 8/20\n",
            "750/750 [==============================] - 138s 184ms/step - loss: 0.1823 - accuracy: 0.9313 - val_loss: 0.2161 - val_accuracy: 0.9238\n",
            "Epoch 9/20\n",
            "750/750 [==============================] - 139s 185ms/step - loss: 0.1701 - accuracy: 0.9375 - val_loss: 0.2171 - val_accuracy: 0.9222\n",
            "Epoch 10/20\n",
            "750/750 [==============================] - 138s 184ms/step - loss: 0.1600 - accuracy: 0.9408 - val_loss: 0.2151 - val_accuracy: 0.9250\n",
            "Epoch 11/20\n",
            "750/750 [==============================] - 138s 184ms/step - loss: 0.1467 - accuracy: 0.9448 - val_loss: 0.2275 - val_accuracy: 0.9247\n",
            "Epoch 12/20\n",
            "750/750 [==============================] - 138s 184ms/step - loss: 0.1379 - accuracy: 0.9482 - val_loss: 0.2197 - val_accuracy: 0.9263\n",
            "Epoch 13/20\n",
            "750/750 [==============================] - 137s 182ms/step - loss: 0.1292 - accuracy: 0.9519 - val_loss: 0.2203 - val_accuracy: 0.9297\n",
            "Epoch 14/20\n",
            "750/750 [==============================] - 139s 186ms/step - loss: 0.1244 - accuracy: 0.9525 - val_loss: 0.2381 - val_accuracy: 0.9249\n",
            "Epoch 15/20\n",
            "750/750 [==============================] - 139s 185ms/step - loss: 0.1164 - accuracy: 0.9556 - val_loss: 0.2317 - val_accuracy: 0.9283\n",
            "Epoch 16/20\n",
            "750/750 [==============================] - 139s 186ms/step - loss: 0.1101 - accuracy: 0.9579 - val_loss: 0.2209 - val_accuracy: 0.9298\n",
            "Epoch 17/20\n",
            "750/750 [==============================] - 139s 185ms/step - loss: 0.1043 - accuracy: 0.9607 - val_loss: 0.2413 - val_accuracy: 0.9307\n",
            "Epoch 18/20\n",
            "750/750 [==============================] - 137s 183ms/step - loss: 0.1024 - accuracy: 0.9616 - val_loss: 0.2324 - val_accuracy: 0.9297\n",
            "Epoch 19/20\n",
            "750/750 [==============================] - 138s 184ms/step - loss: 0.0948 - accuracy: 0.9631 - val_loss: 0.2468 - val_accuracy: 0.9320\n",
            "Epoch 20/20\n",
            "750/750 [==============================] - 136s 182ms/step - loss: 0.0951 - accuracy: 0.9645 - val_loss: 0.2395 - val_accuracy: 0.9312\n",
            "INFO:tensorflow:Assets written to: fashion_model_net.h5py/assets\n"
          ]
        }
      ]
    },
    {
      "cell_type": "code",
      "source": [
        "test_eval4 = fashion_model4.evaluate(test_X, test_Y_one_hot, verbose=1)"
      ],
      "metadata": {
        "colab": {
          "base_uri": "https://localhost:8080/"
        },
        "id": "mLy-rXW2n87d",
        "outputId": "1b6ee74e-f37d-4e51-fc0a-f9aea77bcecd"
      },
      "execution_count": 67,
      "outputs": [
        {
          "output_type": "stream",
          "name": "stdout",
          "text": [
            "313/313 [==============================] - 8s 24ms/step - loss: 0.2704 - accuracy: 0.9271\n"
          ]
        }
      ]
    },
    {
      "cell_type": "code",
      "source": [
        "print(\"test loss: \", test_eval4[0])\n",
        "print(\"test accuracy: \", test_eval4[1])"
      ],
      "metadata": {
        "colab": {
          "base_uri": "https://localhost:8080/"
        },
        "id": "Us_dY_scodMd",
        "outputId": "f4d163b4-94d4-46f2-de45-5b57c7d8a806"
      },
      "execution_count": 68,
      "outputs": [
        {
          "output_type": "stream",
          "name": "stdout",
          "text": [
            "test loss:  0.2704107165336609\n",
            "test accuracy:  0.9271000027656555\n"
          ]
        }
      ]
    },
    {
      "cell_type": "code",
      "source": [
        "k4 = list(fashion_train4.history.keys())\n",
        "a4 = list(fashion_train4.history.values())\n",
        "val_loss = a4[0]\n",
        "val_accuracy = a4[1]\n",
        "loss = a4[2]\n",
        "accuracy = a4[3]\n",
        "epochs = range(len(accuracy))\n",
        "\n",
        "plt.plot(epochs, accuracy, 'b*', label='Training Accuracy')\n",
        "plt.plot(epochs, val_accuracy, 'r', label='Validation Accuracy')\n",
        "plt.ylabel(\"Accuracy\")\n",
        "plt.xlabel(\"Epochs\")\n",
        "plt.title(\"Training and Validation Accuracy\")\n",
        "plt.grid()\n",
        "plt.legend()\n",
        "plt.figure()\n",
        "plt.plot(epochs, loss, 'b*', label='Training Loss')\n",
        "plt.plot(epochs, val_loss, 'r', label='Validation Loss')\n",
        "plt.title(\"Training and Validation Loss\")\n",
        "plt.ylabel(\"Loss\")\n",
        "plt.xlabel(\"Epochs\")\n",
        "plt.grid()\n",
        "plt.legend()\n",
        "plt.figure()\n",
        "plt.show()"
      ],
      "metadata": {
        "colab": {
          "base_uri": "https://localhost:8080/",
          "height": 591
        },
        "id": "CiJWDawqorQE",
        "outputId": "5cb6fbd2-2d2f-48c2-df4b-bcb07630d1c8"
      },
      "execution_count": 71,
      "outputs": [
        {
          "output_type": "display_data",
          "data": {
            "image/png": "[encoded data removed]",
            "text/plain": [
              "<Figure size 432x288 with 1 Axes>"
            ]
          },
          "metadata": {
            "needs_background": "light"
          }
        },
        {
          "output_type": "display_data",
          "data": {
            "image/png": "[encoded data removed]",
            "text/plain": [
              "<Figure size 432x288 with 1 Axes>"
            ]
          },
          "metadata": {
            "needs_background": "light"
          }
        },
        {
          "output_type": "display_data",
          "data": {
            "text/plain": [
              "<Figure size 432x288 with 0 Axes>"
            ]
          },
          "metadata": {}
        }
      ]
    }
  ],
  "metadata": {
    "colab": {
      "name": "cnn_tutorial.ipynb",
      "provenance": []
    },
    "kernelspec": {
      "display_name": "Python 3",
      "name": "python3"
    },
    "language_info": {
      "name": "python"
    }
  },
  "nbformat": 4,
  "nbformat_minor": 0
}